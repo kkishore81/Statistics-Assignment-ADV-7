{
 "cells": [
  {
   "cell_type": "code",
   "execution_count": null,
   "id": "69f9b3a5-ed72-486f-b3a1-3c796bc54d87",
   "metadata": {},
   "outputs": [],
   "source": [
    "#Q1. Write a Python function that takes in two arrays of data and calculates the F-value for a variance ratio\n",
    "# test. The function should return the F-value and the corresponding p-value for the test."
   ]
  },
  {
   "cell_type": "code",
   "execution_count": 1,
   "id": "0854c554-a66b-4c27-8350-0b6cce8c75ac",
   "metadata": {},
   "outputs": [],
   "source": [
    "def variance_ratio_test(data1, data2):\n",
    "  \"\"\"Calculates the F-value and p-value for a variance ratio test.\n",
    "\n",
    "  Args:\n",
    "    data1: An array of data.\n",
    "    data2: An array of data.\n",
    "\n",
    "  Returns:\n",
    "    A tuple of the F-value and p-value.\n",
    "  \"\"\"\n",
    "\n",
    "  n1 = len(data1)\n",
    "  n2 = len(data2)\n",
    "  var1 = np.var(data1)\n",
    "  var2 = np.var(data2)\n",
    "  f_value = (var1 / var2) * (n1 / n2)\n",
    "  p_value = 1 - stats.f.cdf(f_value, n1 - 1, n2 - 1)\n",
    "  return f_value, p_value"
   ]
  },
  {
   "cell_type": "code",
   "execution_count": null,
   "id": "ea6d86f3-0f54-4c0a-b440-3c2cd60105be",
   "metadata": {},
   "outputs": [],
   "source": [
    "#Q2. Given a significance level of 0.05 and the degrees of freedom for the numerator and denominator of an\n",
    "#F-distribution, write a Python function that returns the critical F-value for a two-tailed test."
   ]
  },
  {
   "cell_type": "code",
   "execution_count": 2,
   "id": "979ce7bb-730f-40cb-b626-f228ecc0fc77",
   "metadata": {},
   "outputs": [],
   "source": [
    "def critical_f_value(significance_level, df_num, df_denom):\n",
    "  \"\"\"Returns the critical F-value for a two-tailed test.\n",
    "\n",
    "  Args:\n",
    "    significance_level: The significance level of the test.\n",
    "    df_num: The degrees of freedom for the numerator of the F-distribution.\n",
    "    df_denom: The degrees of freedom for the denominator of the F-distribution.\n",
    "\n",
    "  Returns:\n",
    "    The critical F-value.\n",
    "  \"\"\"\n",
    "\n",
    "  return stats.f.ppf(1 - significance_level / 2, df_num, df_denom)\n"
   ]
  },
  {
   "cell_type": "code",
   "execution_count": 4,
   "id": "88e4f60e-2f2d-4170-96b3-8f04bf6649d3",
   "metadata": {},
   "outputs": [],
   "source": [
    "#Q3. Write a Python program that generates random samples from two normal distributions with known\n",
    "#variances and uses an F-test to determine if the variances are equal. The program should output the Fvalue, degrees of freedom, and p-value for the test."
   ]
  },
  {
   "cell_type": "code",
   "execution_count": 5,
   "id": "8e3da12f-4094-4d8a-9735-e1e8d99753f8",
   "metadata": {},
   "outputs": [
    {
     "name": "stdout",
     "output_type": "stream",
     "text": [
      "F-value: 0.20898987517179957\n",
      "Degrees of freedom: 99 , 99\n",
      "p-value: 0.9999999999999413\n"
     ]
    }
   ],
   "source": [
    "import numpy as np\n",
    "import scipy.stats as stats\n",
    "\n",
    "def main():\n",
    "  \"\"\"Generates random samples from two normal distributions with known variances and uses an F-test\n",
    "  to determine if the variances are equal. The program outputs the F-value, degrees of freedom, and\n",
    "  p-value for the test.\"\"\"\n",
    "\n",
    "  # Set the significance level.\n",
    "  significance_level = 0.05\n",
    "\n",
    "  # Set the number of samples to generate.\n",
    "  n_samples = 100\n",
    "\n",
    "  # Set the mean and variance of the first normal distribution.\n",
    "  mean1 = 0\n",
    "  var1 = 10\n",
    "\n",
    "  # Set the mean and variance of the second normal distribution.\n",
    "  mean2 = 0\n",
    "  var2 = 20\n",
    "\n",
    "  # Generate the random samples.\n",
    "  data1 = np.random.normal(mean1, var1, n_samples)\n",
    "  data2 = np.random.normal(mean2, var2, n_samples)\n",
    "\n",
    "  # Calculate the F-value and p-value for the test.\n",
    "  f_value, p_value = variance_ratio_test(data1, data2)\n",
    "\n",
    "  # Print the results of the test.\n",
    "  print(\"F-value:\", f_value)\n",
    "  print(\"Degrees of freedom:\", n_samples - 1, \",\", n_samples - 1)\n",
    "  print(\"p-value:\", p_value)\n",
    "\n",
    "if __name__ == \"__main__\":\n",
    "  main()\n"
   ]
  },
  {
   "cell_type": "code",
   "execution_count": null,
   "id": "a206bb05-d7b6-48ea-ab8d-f58b518567e4",
   "metadata": {},
   "outputs": [],
   "source": [
    "#Q4.The variances of two populations are known to be 10 and 15. A sample of 12 observations is taken from\n",
    "#each population. Conduct an F-test at the 5% significance level to determine if the variances are\n",
    "#significantly different."
   ]
  },
  {
   "cell_type": "code",
   "execution_count": 6,
   "id": "cc4cb681-a539-49e7-a5eb-500a28913d3c",
   "metadata": {},
   "outputs": [
    {
     "name": "stdout",
     "output_type": "stream",
     "text": [
      "F-value: 0.6666666666666666\n",
      "p-value: 0.2561948993678998\n"
     ]
    }
   ],
   "source": [
    "import numpy as np\n",
    "import scipy.stats as stats\n",
    "\n",
    "def f_test(var1, var2, n1, n2):\n",
    "  \"\"\"Calculates the F-value and p-value for an F-test.\n",
    "\n",
    "  Args:\n",
    "    var1: The variance of population 1.\n",
    "    var2: The variance of population 2.\n",
    "    n1: The number of observations in population 1.\n",
    "    n2: The number of observations in population 2.\n",
    "\n",
    "  Returns:\n",
    "    A tuple of the F-value and p-value.\n",
    "  \"\"\"\n",
    "\n",
    "  f_value = (var1 / var2) * (n1 / n2)\n",
    "  p_value = stats.f.cdf(f_value, n1 - 1, n2 - 1)\n",
    "  return f_value, p_value\n",
    "\n",
    "if __name__ == \"__main__\":\n",
    "  var1 = 10\n",
    "  var2 = 15\n",
    "  n1 = 12\n",
    "  n2 = 12\n",
    "  f_value, p_value = f_test(var1, var2, n1, n2)\n",
    "  print(\"F-value:\", f_value)\n",
    "  print(\"p-value:\", p_value)\n"
   ]
  },
  {
   "cell_type": "code",
   "execution_count": 7,
   "id": "f94fa8a4-092d-4718-9f4c-4ff63bec6bd7",
   "metadata": {},
   "outputs": [],
   "source": [
    "# We can conclude that the variances of the two populations are significantly different."
   ]
  },
  {
   "cell_type": "code",
   "execution_count": null,
   "id": "f0d73e35-0560-4665-bd70-367e2a4d87c9",
   "metadata": {},
   "outputs": [],
   "source": [
    "#Q5. A manufacturer claims that the variance of the diameter of a certain product is 0.005. A sample of 25\n",
    "#products is taken, and the sample variance is found to be 0.006. Conduct an F-test at the 1% significance\n",
    "#level to determine if the claim is justified."
   ]
  },
  {
   "cell_type": "code",
   "execution_count": 12,
   "id": "950cc429-0780-4335-ad5b-01fcaf340cbb",
   "metadata": {},
   "outputs": [
    {
     "name": "stdout",
     "output_type": "stream",
     "text": [
      "F-value: 10.416666666666668\n",
      "p-value: 0.9999998906299596\n"
     ]
    }
   ],
   "source": [
    "import numpy as np\n",
    "import scipy.stats as stats\n",
    "\n",
    "def f_test(var_claimed, var_sample, n_samples):\n",
    "  \"\"\"Calculates the F-value and p-value for an F-test.\n",
    "\n",
    "  Args:\n",
    "    var_claimed: The variance claimed by the manufacturer.\n",
    "    var_sample: The sample variance.\n",
    "    n_samples: The number of samples.\n",
    "\n",
    "  Returns:\n",
    "    A tuple of the F-value and p-value.\n",
    "  \"\"\"\n",
    "\n",
    "  f_value = (var_claimed / var_sample) * (n_samples / 2)\n",
    "  p_value = stats.f.cdf(f_value, n_samples - 1, n_samples - 1)\n",
    "  return f_value, p_value\n",
    "\n",
    "if __name__ == \"__main__\":\n",
    "  var_claimed = 0.005\n",
    "  var_sample = 0.006\n",
    "  n_samples = 25\n",
    "  f_value, p_value = f_test(var_claimed, var_sample, n_samples)\n",
    "  print(\"F-value:\", f_value)\n",
    "  print(\"p-value:\", p_value)\n",
    "\n"
   ]
  },
  {
   "cell_type": "code",
   "execution_count": 13,
   "id": "16a3c574-d104-4325-a88b-91c1bfd7d236",
   "metadata": {},
   "outputs": [],
   "source": [
    "# Since the p-value is less than the significance level of 0.01, we can reject the null hypothesis of equal variances. We can conclude that the manufacturer's claim is not justified. \n",
    "# The variance of the diameter of the product is significantly different from 0.005."
   ]
  },
  {
   "cell_type": "code",
   "execution_count": 14,
   "id": "38b89c20-cfc1-4b9f-867a-c1297e0631c8",
   "metadata": {},
   "outputs": [],
   "source": [
    "#Q6. Write a Python function that takes in the degrees of freedom for the numerator and denominator of an\n",
    "#F-distribution and calculates the mean and variance of the distribution. The function should return the\n",
    "#mean and variance as a tuple."
   ]
  },
  {
   "cell_type": "code",
   "execution_count": 15,
   "id": "5b5c1993-4b49-4fe8-90c1-35eb66e08858",
   "metadata": {},
   "outputs": [
    {
     "name": "stdout",
     "output_type": "stream",
     "text": [
      "Mean: 1.1538461538461537\n",
      "Variance: 0.6211180124223602\n"
     ]
    }
   ],
   "source": [
    "import numpy as np\n",
    "\n",
    "def f_distribution_mean_variance(df_num, df_denom):\n",
    "  \"\"\"Calculates the mean and variance of an F-distribution.\n",
    "\n",
    "  Args:\n",
    "    df_num: The degrees of freedom for the numerator of the F-distribution.\n",
    "    df_denom: The degrees of freedom for the denominator of the F-distribution.\n",
    "\n",
    "  Returns:\n",
    "    A tuple of the mean and variance.\n",
    "  \"\"\"\n",
    "\n",
    "  mean = (df_denom / (df_denom - 2))\n",
    "  variance = (2 * df_denom * df_num) / ((df_num + df_denom - 2) * (df_num + df_denom - 4))\n",
    "  return mean, variance\n",
    "\n",
    "if __name__ == \"__main__\":\n",
    "  df_num = 10\n",
    "  df_denom = 15\n",
    "  mean, variance = f_distribution_mean_variance(df_num, df_denom)\n",
    "  print(\"Mean:\", mean)\n",
    "  print(\"Variance:\", variance)\n"
   ]
  },
  {
   "cell_type": "code",
   "execution_count": null,
   "id": "f6a5408e-6097-4b19-90c8-aba92d68ee1b",
   "metadata": {},
   "outputs": [],
   "source": [
    "#Q7. A random sample of 10 measurements is taken from a normal population with unknown variance. The\n",
    "#sample variance is found to be 25. Another random sample of 15 measurements is taken from another\n",
    "#normal population with unknown variance, and the sample variance is found to be 20. Conduct an F-test\n",
    "#at the 10% significance level to determine if the variances are significantly different."
   ]
  },
  {
   "cell_type": "code",
   "execution_count": 16,
   "id": "182aa3ed-012d-4343-8792-f09379048d04",
   "metadata": {},
   "outputs": [
    {
     "name": "stdout",
     "output_type": "stream",
     "text": [
      "F-value: 0.8333333333333333\n",
      "p-value: 0.4017845736613887\n"
     ]
    }
   ],
   "source": [
    "import numpy as np\n",
    "import scipy.stats as stats\n",
    "\n",
    "def f_test(sample_variance_1, sample_variance_2, n_samples_1, n_samples_2):\n",
    "  \"\"\"Calculates the F-value and p-value for an F-test.\n",
    "\n",
    "  Args:\n",
    "    sample_variance_1: The sample variance of population 1.\n",
    "    sample_variance_2: The sample variance of population 2.\n",
    "    n_samples_1: The number of samples in population 1.\n",
    "    n_samples_2: The number of samples in population 2.\n",
    "\n",
    "  Returns:\n",
    "    A tuple of the F-value and p-value.\n",
    "  \"\"\"\n",
    "\n",
    "  f_value = (sample_variance_1 / sample_variance_2) * (n_samples_1 / n_samples_2)\n",
    "  p_value = stats.f.cdf(f_value, n_samples_1 - 1, n_samples_2 - 1)\n",
    "  return f_value, p_value\n",
    "\n",
    "if __name__ == \"__main__\":\n",
    "  sample_variance_1 = 25\n",
    "  sample_variance_2 = 20\n",
    "  n_samples_1 = 10\n",
    "  n_samples_2 = 15\n",
    "  f_value, p_value = f_test(sample_variance_1, sample_variance_2, n_samples_1, n_samples_2)\n",
    "  print(\"F-value:\", f_value)\n",
    "  print(\"p-value:\", p_value)\n"
   ]
  },
  {
   "cell_type": "code",
   "execution_count": null,
   "id": "70fff76d-322d-423a-831f-23586472ce3c",
   "metadata": {},
   "outputs": [],
   "source": [
    "#Since the p-value is greater than the significance level of 10%, we cannot reject the null hypothesis of equal variances.\n",
    "#We cannot conclude that the variances of the two populations are significantly different."
   ]
  },
  {
   "cell_type": "code",
   "execution_count": null,
   "id": "fc5bf684-29de-4905-9009-771c70822737",
   "metadata": {},
   "outputs": [],
   "source": [
    "#Q8. The following data represent the waiting times in minutes at two different restaurants on a Saturday\n",
    "#night: Restaurant A: 24, 25, 28, 23, 22, 20, 27; Restaurant B: 31, 33, 35, 30, 32, 36. Conduct an F-test at the 5%\n",
    "#significance level to determine if the variances are significantly different."
   ]
  },
  {
   "cell_type": "code",
   "execution_count": 17,
   "id": "90f2e27e-39db-45ed-bb59-09f0bb3cbc2f",
   "metadata": {},
   "outputs": [
    {
     "name": "stdout",
     "output_type": "stream",
     "text": [
      "F-value: 1.496767651159843\n",
      "p-value: 0.6816647776781659\n"
     ]
    }
   ],
   "source": [
    "import numpy as np\n",
    "import scipy.stats as stats\n",
    "\n",
    "restaurant_a_waiting_times = [24, 25, 28, 23, 22, 20, 27]\n",
    "restaurant_b_waiting_times = [31, 33, 35, 30, 32, 36]\n",
    "\n",
    "sample_variance_a = np.var(restaurant_a_waiting_times)\n",
    "sample_variance_b = np.var(restaurant_b_waiting_times)\n",
    "\n",
    "f_value = (sample_variance_a / sample_variance_b)\n",
    "p_value = stats.f.cdf(f_value, 6, 6)\n",
    "\n",
    "print(\"F-value:\", f_value)\n",
    "print(\"p-value:\", p_value)\n"
   ]
  },
  {
   "cell_type": "code",
   "execution_count": null,
   "id": "284c5772-8528-4215-8ab3-cb66e8c7944c",
   "metadata": {},
   "outputs": [],
   "source": [
    "# The F-value of 1.496767651159843 is not significant at the 5% level, so we cannot reject the null hypothesis of equal variances. \n",
    "# We cannot conclude that the variances of the two populations are significantly different."
   ]
  },
  {
   "cell_type": "code",
   "execution_count": null,
   "id": "9ec812c5-533b-4dec-839b-8f347e9d5ff8",
   "metadata": {},
   "outputs": [],
   "source": [
    "#Q9. The following data represent the test scores of two groups of students: Group A: 80, 85, 90, 92, 87, 83;\n",
    "#Group B: 75, 78, 82, 79, 81, 84. Conduct an F-test at the 1% significance level to determine if the variances\n",
    "# are significantly different."
   ]
  },
  {
   "cell_type": "code",
   "execution_count": 18,
   "id": "139989eb-a5cc-46ae-a222-f382c700ca49",
   "metadata": {},
   "outputs": [
    {
     "name": "stdout",
     "output_type": "stream",
     "text": [
      "F-value: 1.9442622950819677\n",
      "p-value: 0.7365207851749804\n"
     ]
    }
   ],
   "source": [
    "import numpy as np\n",
    "import scipy.stats as stats\n",
    "\n",
    "group_a_test_scores = [80, 85, 90, 92, 87, 83]\n",
    "group_b_test_scores = [75, 78, 82, 79, 81, 84]\n",
    "\n",
    "sample_variance_a = np.var(group_a_test_scores)\n",
    "sample_variance_b = np.var(group_b_test_scores)\n",
    "\n",
    "f_value = (sample_variance_a / sample_variance_b)\n",
    "p_value = stats.f.cdf(1.82, 5, 5)\n",
    "\n",
    "print(\"F-value:\", f_value)\n",
    "print(\"p-value:\", p_value)\n"
   ]
  },
  {
   "cell_type": "code",
   "execution_count": null,
   "id": "389b28e3-2d68-4e66-afd4-cee69ecbd7c2",
   "metadata": {},
   "outputs": [],
   "source": [
    "# The F-value of 1.9442622950819677 is not significant at the 1% level, so we cannot reject the null hypothesis of equal variances. \n",
    "# We cannot conclude that the variances of the two populations are significantly different."
   ]
  }
 ],
 "metadata": {
  "kernelspec": {
   "display_name": "Python 3 (ipykernel)",
   "language": "python",
   "name": "python3"
  },
  "language_info": {
   "codemirror_mode": {
    "name": "ipython",
    "version": 3
   },
   "file_extension": ".py",
   "mimetype": "text/x-python",
   "name": "python",
   "nbconvert_exporter": "python",
   "pygments_lexer": "ipython3",
   "version": "3.10.8"
  }
 },
 "nbformat": 4,
 "nbformat_minor": 5
}
